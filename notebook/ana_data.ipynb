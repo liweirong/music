{
 "cells": [
  {
   "cell_type": "code",
   "execution_count": 15,
   "metadata": {
    "collapsed": true
   },
   "outputs": [],
   "source": [
    "import pandas as pd\n",
    "import os"
   ]
  },
  {
   "cell_type": "code",
   "execution_count": 16,
   "metadata": {
    "collapsed": true
   },
   "outputs": [],
   "source": [
    "data_path = '../raw_data'"
   ]
  },
  {
   "cell_type": "code",
   "execution_count": 17,
   "metadata": {
    "collapsed": false
   },
   "outputs": [
    {
     "name": "stdout",
     "output_type": "stream",
     "text": [
      "../raw_data\\music_meta\n",
      "../raw_data\\user_profile.data\n",
      "../raw_data\\user_watch_pref.sml\n"
     ]
    }
   ],
   "source": [
    "music_meta = os.path.join(data_path,'music_meta')\n",
    "user_profile = os.path.join(data_path,'user_profile.data')\n",
    "user_watch_pref = os.path.join(data_path,'user_watch_pref.sml')\n",
    "print(music_meta)\n",
    "print(user_profile)\n",
    "print(user_watch_pref)"
   ]
  },
  {
   "cell_type": "code",
   "execution_count": 18,
   "metadata": {
    "collapsed": false
   },
   "outputs": [
    {
     "data": {
      "text/html": [
       "<div>\n",
       "<table border=\"1\" class=\"dataframe\">\n",
       "  <thead>\n",
       "    <tr style=\"text-align: right;\">\n",
       "      <th></th>\n",
       "      <th>item_id</th>\n",
       "      <th>item_name</th>\n",
       "      <th>desc</th>\n",
       "      <th>total_timelen</th>\n",
       "      <th>location</th>\n",
       "      <th>tags</th>\n",
       "    </tr>\n",
       "  </thead>\n",
       "  <tbody>\n",
       "    <tr>\n",
       "      <th>0</th>\n",
       "      <td>93709100</td>\n",
       "      <td>韩国少女时代最新回归新专主打《I GOT A BOY》</td>\n",
       "      <td>韩国少女时代最新回归新专主打《I GOT A BOY》</td>\n",
       "      <td>304</td>\n",
       "      <td>NaN</td>\n",
       "      <td>少女时代,鹿晗,韩国,exo综艺,最新回归,exo快乐大本营,吴世勋,fx组合,音悦台</td>\n",
       "    </tr>\n",
       "    <tr>\n",
       "      <th>1</th>\n",
       "      <td>102209100</td>\n",
       "      <td>韩国张力尹携手EXO成员CHEN《呼吸》中文版</td>\n",
       "      <td>韩国张力尹携手EXO成员CHEN《呼吸》中文版</td>\n",
       "      <td>274</td>\n",
       "      <td>NaN</td>\n",
       "      <td>CHEN,少女时代,呼吸,鹿晗,张力尹,韩国,EXO成员,EXO,宋茜,音悦台</td>\n",
       "    </tr>\n",
       "    <tr>\n",
       "      <th>2</th>\n",
       "      <td>29900100</td>\n",
       "      <td>徐颢菲《猫的借口》</td>\n",
       "      <td>NaN</td>\n",
       "      <td>284</td>\n",
       "      <td>国内</td>\n",
       "      <td>NaN</td>\n",
       "    </tr>\n",
       "    <tr>\n",
       "      <th>3</th>\n",
       "      <td>368709100</td>\n",
       "      <td>美女翻唱 别问我是谁</td>\n",
       "      <td>美女翻唱 别问我是谁</td>\n",
       "      <td>288</td>\n",
       "      <td>NaN</td>\n",
       "      <td>流行歌曲,翻唱,网络歌曲,美女,舞曲,社会</td>\n",
       "    </tr>\n",
       "    <tr>\n",
       "      <th>4</th>\n",
       "      <td>603409100</td>\n",
       "      <td>龙梅子,老猫 老爸老爸你好吗</td>\n",
       "      <td>龙梅子,老猫 老爸老爸你好吗</td>\n",
       "      <td>259</td>\n",
       "      <td>NaN</td>\n",
       "      <td>你好吗,龙梅子,老猫,老爸老爸</td>\n",
       "    </tr>\n",
       "  </tbody>\n",
       "</table>\n",
       "</div>"
      ],
      "text/plain": [
       "     item_id                    item_name                         desc  \\\n",
       "0   93709100  韩国少女时代最新回归新专主打《I GOT A BOY》  韩国少女时代最新回归新专主打《I GOT A BOY》   \n",
       "1  102209100      韩国张力尹携手EXO成员CHEN《呼吸》中文版      韩国张力尹携手EXO成员CHEN《呼吸》中文版   \n",
       "2   29900100                    徐颢菲《猫的借口》                          NaN   \n",
       "3  368709100                   美女翻唱 别问我是谁                   美女翻唱 别问我是谁   \n",
       "4  603409100               龙梅子,老猫 老爸老爸你好吗               龙梅子,老猫 老爸老爸你好吗   \n",
       "\n",
       "   total_timelen location                                         tags  \n",
       "0            304      NaN  少女时代,鹿晗,韩国,exo综艺,最新回归,exo快乐大本营,吴世勋,fx组合,音悦台  \n",
       "1            274      NaN      CHEN,少女时代,呼吸,鹿晗,张力尹,韩国,EXO成员,EXO,宋茜,音悦台  \n",
       "2            284       国内                                          NaN  \n",
       "3            288      NaN                        流行歌曲,翻唱,网络歌曲,美女,舞曲,社会  \n",
       "4            259      NaN                              你好吗,龙梅子,老猫,老爸老爸  "
      ]
     },
     "execution_count": 18,
     "metadata": {},
     "output_type": "execute_result"
    }
   ],
   "source": [
    "df_music_meta = pd.read_csv(music_meta,sep='\\001', nrows=10,\n",
    "                            names=['item_id', 'item_name', 'desc', 'total_timelen', 'location', 'tags'])\n",
    "df_music_meta.head()"
   ]
  },
  {
   "cell_type": "code",
   "execution_count": 10,
   "metadata": {
    "collapsed": false
   },
   "outputs": [
    {
     "data": {
      "text/html": [
       "<div>\n",
       "<table border=\"1\" class=\"dataframe\">\n",
       "  <thead>\n",
       "    <tr style=\"text-align: right;\">\n",
       "      <th></th>\n",
       "      <th>user_id</th>\n",
       "      <th>gender</th>\n",
       "      <th>age</th>\n",
       "      <th>salary</th>\n",
       "      <th>province</th>\n",
       "    </tr>\n",
       "  </thead>\n",
       "  <tbody>\n",
       "    <tr>\n",
       "      <th>0</th>\n",
       "      <td>00ea9a2fe9c6810aab440c4d8c050000</td>\n",
       "      <td>女</td>\n",
       "      <td>26-35</td>\n",
       "      <td>20000-100000</td>\n",
       "      <td>江苏</td>\n",
       "    </tr>\n",
       "    <tr>\n",
       "      <th>1</th>\n",
       "      <td>01a0ae50fd4b9ef6ed04c22a7e421000</td>\n",
       "      <td>女</td>\n",
       "      <td>36-45</td>\n",
       "      <td>0-2000</td>\n",
       "      <td>河北</td>\n",
       "    </tr>\n",
       "    <tr>\n",
       "      <th>2</th>\n",
       "      <td>002db7d2360562dd16828c4b91402000</td>\n",
       "      <td>女</td>\n",
       "      <td>46-100</td>\n",
       "      <td>5000-10000</td>\n",
       "      <td>云南</td>\n",
       "    </tr>\n",
       "    <tr>\n",
       "      <th>3</th>\n",
       "      <td>006a184749e3b3eb83e9eb516d522000</td>\n",
       "      <td>男</td>\n",
       "      <td>36-45</td>\n",
       "      <td>2000-5000</td>\n",
       "      <td>天津</td>\n",
       "    </tr>\n",
       "    <tr>\n",
       "      <th>4</th>\n",
       "      <td>00de61c1d635ad964eef2aefa8292000</td>\n",
       "      <td>女</td>\n",
       "      <td>19-25</td>\n",
       "      <td>2000-5000</td>\n",
       "      <td>内蒙古</td>\n",
       "    </tr>\n",
       "  </tbody>\n",
       "</table>\n",
       "</div>"
      ],
      "text/plain": [
       "                            user_id gender     age        salary province\n",
       "0  00ea9a2fe9c6810aab440c4d8c050000      女   26-35  20000-100000       江苏\n",
       "1  01a0ae50fd4b9ef6ed04c22a7e421000      女   36-45        0-2000       河北\n",
       "2  002db7d2360562dd16828c4b91402000      女  46-100    5000-10000       云南\n",
       "3  006a184749e3b3eb83e9eb516d522000      男   36-45     2000-5000       天津\n",
       "4  00de61c1d635ad964eef2aefa8292000      女   19-25     2000-5000      内蒙古"
      ]
     },
     "execution_count": 10,
     "metadata": {},
     "output_type": "execute_result"
    }
   ],
   "source": [
    "df_user_profile = pd.read_csv(user_profile,sep=',',nrows=10,\n",
    "                            names=['user_id','gender','age','salary','province'])\n",
    "df_user_profile.head()"
   ]
  },
  {
   "cell_type": "code",
   "execution_count": 22,
   "metadata": {
    "collapsed": false
   },
   "outputs": [
    {
     "data": {
      "text/html": [
       "<div>\n",
       "<table border=\"1\" class=\"dataframe\">\n",
       "  <thead>\n",
       "    <tr style=\"text-align: right;\">\n",
       "      <th></th>\n",
       "      <th>user_id</th>\n",
       "      <th>item_id</th>\n",
       "      <th>stay_seconds</th>\n",
       "      <th>hour</th>\n",
       "    </tr>\n",
       "  </thead>\n",
       "  <tbody>\n",
       "    <tr>\n",
       "      <th>0</th>\n",
       "      <td>01e069ed67600f1914e64c0fe7730944</td>\n",
       "      <td>4090309101</td>\n",
       "      <td>15</td>\n",
       "      <td>19</td>\n",
       "    </tr>\n",
       "    <tr>\n",
       "      <th>1</th>\n",
       "      <td>01d86fc1401b283d5828c293be290e08</td>\n",
       "      <td>6192809101</td>\n",
       "      <td>75</td>\n",
       "      <td>12</td>\n",
       "    </tr>\n",
       "    <tr>\n",
       "      <th>2</th>\n",
       "      <td>002f4b9c49be9a0b2c13e1c3c4f6a21c</td>\n",
       "      <td>8915109101</td>\n",
       "      <td>385</td>\n",
       "      <td>18</td>\n",
       "    </tr>\n",
       "    <tr>\n",
       "      <th>3</th>\n",
       "      <td>01e3fdf415107cd6046a07481fbed499</td>\n",
       "      <td>6470209102</td>\n",
       "      <td>1635</td>\n",
       "      <td>21</td>\n",
       "    </tr>\n",
       "    <tr>\n",
       "      <th>4</th>\n",
       "      <td>01e3fdf415107cd6046a07481fbed499</td>\n",
       "      <td>6470209102</td>\n",
       "      <td>555</td>\n",
       "      <td>16</td>\n",
       "    </tr>\n",
       "  </tbody>\n",
       "</table>\n",
       "</div>"
      ],
      "text/plain": [
       "                            user_id     item_id  stay_seconds  hour\n",
       "0  01e069ed67600f1914e64c0fe7730944  4090309101            15    19\n",
       "1  01d86fc1401b283d5828c293be290e08  6192809101            75    12\n",
       "2  002f4b9c49be9a0b2c13e1c3c4f6a21c  8915109101           385    18\n",
       "3  01e3fdf415107cd6046a07481fbed499  6470209102          1635    21\n",
       "4  01e3fdf415107cd6046a07481fbed499  6470209102           555    16"
      ]
     },
     "execution_count": 22,
     "metadata": {},
     "output_type": "execute_result"
    }
   ],
   "source": [
    "df_user_watch = pd.read_csv(user_watch_pref,sep='\\001',\n",
    "                            names=['user_id','item_id','stay_seconds','hour'])\n",
    "df_user_watch.head()"
   ]
  },
  {
   "cell_type": "code",
   "execution_count": 14,
   "metadata": {
    "collapsed": false
   },
   "outputs": [
    {
     "data": {
      "text/html": [
       "<div>\n",
       "<table border=\"1\" class=\"dataframe\">\n",
       "  <thead>\n",
       "    <tr style=\"text-align: right;\">\n",
       "      <th></th>\n",
       "      <th>item_id</th>\n",
       "      <th>item_name</th>\n",
       "      <th>total_timelen</th>\n",
       "      <th>location</th>\n",
       "      <th>tags</th>\n",
       "    </tr>\n",
       "  </thead>\n",
       "  <tbody>\n",
       "    <tr>\n",
       "      <th>0</th>\n",
       "      <td>93709100</td>\n",
       "      <td>韩国少女时代最新回归新专主打《I GOT A BOY》</td>\n",
       "      <td>304</td>\n",
       "      <td>-</td>\n",
       "      <td>少女时代,鹿晗,韩国,exo综艺,最新回归,exo快乐大本营,吴世勋,fx组合,音悦台</td>\n",
       "    </tr>\n",
       "    <tr>\n",
       "      <th>1</th>\n",
       "      <td>102209100</td>\n",
       "      <td>韩国张力尹携手EXO成员CHEN《呼吸》中文版</td>\n",
       "      <td>274</td>\n",
       "      <td>-</td>\n",
       "      <td>CHEN,少女时代,呼吸,鹿晗,张力尹,韩国,EXO成员,EXO,宋茜,音悦台</td>\n",
       "    </tr>\n",
       "    <tr>\n",
       "      <th>2</th>\n",
       "      <td>29900100</td>\n",
       "      <td>徐颢菲《猫的借口》</td>\n",
       "      <td>284</td>\n",
       "      <td>国内</td>\n",
       "      <td>-</td>\n",
       "    </tr>\n",
       "    <tr>\n",
       "      <th>3</th>\n",
       "      <td>368709100</td>\n",
       "      <td>美女翻唱 别问我是谁</td>\n",
       "      <td>288</td>\n",
       "      <td>-</td>\n",
       "      <td>流行歌曲,翻唱,网络歌曲,美女,舞曲,社会</td>\n",
       "    </tr>\n",
       "    <tr>\n",
       "      <th>4</th>\n",
       "      <td>603409100</td>\n",
       "      <td>龙梅子,老猫 老爸老爸你好吗</td>\n",
       "      <td>259</td>\n",
       "      <td>-</td>\n",
       "      <td>你好吗,龙梅子,老猫,老爸老爸</td>\n",
       "    </tr>\n",
       "  </tbody>\n",
       "</table>\n",
       "</div>"
      ],
      "text/plain": [
       "     item_id                    item_name  total_timelen location  \\\n",
       "0   93709100  韩国少女时代最新回归新专主打《I GOT A BOY》            304        -   \n",
       "1  102209100      韩国张力尹携手EXO成员CHEN《呼吸》中文版            274        -   \n",
       "2   29900100                    徐颢菲《猫的借口》            284       国内   \n",
       "3  368709100                   美女翻唱 别问我是谁            288        -   \n",
       "4  603409100               龙梅子,老猫 老爸老爸你好吗            259        -   \n",
       "\n",
       "                                          tags  \n",
       "0  少女时代,鹿晗,韩国,exo综艺,最新回归,exo快乐大本营,吴世勋,fx组合,音悦台  \n",
       "1      CHEN,少女时代,呼吸,鹿晗,张力尹,韩国,EXO成员,EXO,宋茜,音悦台  \n",
       "2                                            -  \n",
       "3                        流行歌曲,翻唱,网络歌曲,美女,舞曲,社会  \n",
       "4                              你好吗,龙梅子,老猫,老爸老爸  "
      ]
     },
     "execution_count": 14,
     "metadata": {},
     "output_type": "execute_result"
    }
   ],
   "source": [
    "df_music_meta = df_music_meta.fillna('-')\n",
    "del df_music_meta['desc']\n",
    "df_music_meta.head()"
   ]
  },
  {
   "cell_type": "code",
   "execution_count": 28,
   "metadata": {
    "collapsed": false
   },
   "outputs": [
    {
     "name": "stderr",
     "output_type": "stream",
     "text": [
      "C:\\Program Files\\Anaconda3\\lib\\site-packages\\ipykernel\\__main__.py:3: FutureWarning: sort(columns=....) is deprecated, use sort_values(by=.....)\n",
      "  app.launch_new_instance()\n"
     ]
    },
    {
     "data": {
      "text/html": [
       "<div>\n",
       "<table border=\"1\" class=\"dataframe\">\n",
       "  <thead>\n",
       "    <tr style=\"text-align: right;\">\n",
       "      <th></th>\n",
       "      <th>user_id</th>\n",
       "      <th>item_id</th>\n",
       "      <th>cnt</th>\n",
       "    </tr>\n",
       "  </thead>\n",
       "  <tbody>\n",
       "    <tr>\n",
       "      <th>113568</th>\n",
       "      <td>00e5b556c5fda7a1b247bd78d69595fa</td>\n",
       "      <td>673600354</td>\n",
       "      <td>3922</td>\n",
       "    </tr>\n",
       "    <tr>\n",
       "      <th>226458</th>\n",
       "      <td>01c692ac26d813dba9607a7f96b7e415</td>\n",
       "      <td>68800255</td>\n",
       "      <td>313</td>\n",
       "    </tr>\n",
       "    <tr>\n",
       "      <th>223924</th>\n",
       "      <td>01c17beaefa995baf12433acbda093cc</td>\n",
       "      <td>945800328</td>\n",
       "      <td>239</td>\n",
       "    </tr>\n",
       "    <tr>\n",
       "      <th>59783</th>\n",
       "      <td>00775f1bad5eba86ed5631645adb7212</td>\n",
       "      <td>130400221</td>\n",
       "      <td>233</td>\n",
       "    </tr>\n",
       "    <tr>\n",
       "      <th>30433</th>\n",
       "      <td>003b69052af5d0d5aba2579805bb5172</td>\n",
       "      <td>910600254</td>\n",
       "      <td>229</td>\n",
       "    </tr>\n",
       "    <tr>\n",
       "      <th>168988</th>\n",
       "      <td>0154fbc6fab402e1bfcde162645c2a05</td>\n",
       "      <td>701600213</td>\n",
       "      <td>221</td>\n",
       "    </tr>\n",
       "    <tr>\n",
       "      <th>161943</th>\n",
       "      <td>01468969eabf2b347ddd967026bfd441</td>\n",
       "      <td>923800355</td>\n",
       "      <td>185</td>\n",
       "    </tr>\n",
       "    <tr>\n",
       "      <th>43785</th>\n",
       "      <td>0056fd47e3452f7932b706795545be24</td>\n",
       "      <td>68800255</td>\n",
       "      <td>167</td>\n",
       "    </tr>\n",
       "    <tr>\n",
       "      <th>152483</th>\n",
       "      <td>0133bebca60bb55a19b45772fec80bae</td>\n",
       "      <td>955000334</td>\n",
       "      <td>127</td>\n",
       "    </tr>\n",
       "    <tr>\n",
       "      <th>36356</th>\n",
       "      <td>00478d526c48a8262bf87610764d44ac</td>\n",
       "      <td>923700244</td>\n",
       "      <td>127</td>\n",
       "    </tr>\n",
       "  </tbody>\n",
       "</table>\n",
       "</div>"
      ],
      "text/plain": [
       "                                 user_id    item_id   cnt\n",
       "113568  00e5b556c5fda7a1b247bd78d69595fa  673600354  3922\n",
       "226458  01c692ac26d813dba9607a7f96b7e415   68800255   313\n",
       "223924  01c17beaefa995baf12433acbda093cc  945800328   239\n",
       "59783   00775f1bad5eba86ed5631645adb7212  130400221   233\n",
       "30433   003b69052af5d0d5aba2579805bb5172  910600254   229\n",
       "168988  0154fbc6fab402e1bfcde162645c2a05  701600213   221\n",
       "161943  01468969eabf2b347ddd967026bfd441  923800355   185\n",
       "43785   0056fd47e3452f7932b706795545be24   68800255   167\n",
       "152483  0133bebca60bb55a19b45772fec80bae  955000334   127\n",
       "36356   00478d526c48a8262bf87610764d44ac  923700244   127"
      ]
     },
     "execution_count": 28,
     "metadata": {},
     "output_type": "execute_result"
    }
   ],
   "source": [
    "df_cnt = df_user_watch.groupby(['user_id','item_id'])['stay_seconds'].count().reset_index()\n",
    "df_cnt.columns = ['user_id','item_id','cnt']\n",
    "df_cnt.sort('cnt',ascending=False).head(10)"
   ]
  },
  {
   "cell_type": "code",
   "execution_count": null,
   "metadata": {
    "collapsed": true
   },
   "outputs": [],
   "source": []
  }
 ],
 "metadata": {
  "anaconda-cloud": {},
  "kernelspec": {
   "display_name": "Python [conda root]",
   "language": "python",
   "name": "conda-root-py"
  },
  "language_info": {
   "codemirror_mode": {
    "name": "ipython",
    "version": 3
   },
   "file_extension": ".py",
   "mimetype": "text/x-python",
   "name": "python",
   "nbconvert_exporter": "python",
   "pygments_lexer": "ipython3",
   "version": "3.5.2"
  }
 },
 "nbformat": 4,
 "nbformat_minor": 0
}
